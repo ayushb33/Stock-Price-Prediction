{
 "cells": [
  {
   "cell_type": "code",
   "execution_count": 2,
   "metadata": {
    "id": "6UtjMzrglMyr"
   },
   "outputs": [],
   "source": [
    "import numpy as np\n",
    "import pandas as pd\n",
    "import matplotlib.pyplot as plt\n",
    "import yfinance as yf"
   ]
  },
  {
   "cell_type": "code",
   "execution_count": 3,
   "metadata": {
    "colab": {
     "base_uri": "https://localhost:8080/"
    },
    "id": "ck2Q8-oXllXK",
    "outputId": "cf46ea74-8e5b-44ef-acda-95073b9c01b0"
   },
   "outputs": [
    {
     "name": "stderr",
     "output_type": "stream",
     "text": [
      "C:\\Users\\ayush\\AppData\\Local\\Temp\\ipykernel_27408\\731553473.py:5: FutureWarning: YF.download() has changed argument auto_adjust default to True\n",
      "  data = yf.download(stock, start, end)\n",
      "[*********************100%***********************]  1 of 1 completed\n"
     ]
    }
   ],
   "source": [
    "start = '2014-01-01'\n",
    "end = '2024-12-31'\n",
    "stock = 'GOOG'\n",
    "\n",
    "data = yf.download(stock, start, end)"
   ]
  },
  {
   "cell_type": "code",
   "execution_count": 4,
   "metadata": {},
   "outputs": [
    {
     "data": {
      "text/html": [
       "<div>\n",
       "<style scoped>\n",
       "    .dataframe tbody tr th:only-of-type {\n",
       "        vertical-align: middle;\n",
       "    }\n",
       "\n",
       "    .dataframe tbody tr th {\n",
       "        vertical-align: top;\n",
       "    }\n",
       "\n",
       "    .dataframe thead tr th {\n",
       "        text-align: left;\n",
       "    }\n",
       "\n",
       "    .dataframe thead tr:last-of-type th {\n",
       "        text-align: right;\n",
       "    }\n",
       "</style>\n",
       "<table border=\"1\" class=\"dataframe\">\n",
       "  <thead>\n",
       "    <tr>\n",
       "      <th>Price</th>\n",
       "      <th>Close</th>\n",
       "      <th>High</th>\n",
       "      <th>Low</th>\n",
       "      <th>Open</th>\n",
       "      <th>Volume</th>\n",
       "    </tr>\n",
       "    <tr>\n",
       "      <th>Ticker</th>\n",
       "      <th>GOOG</th>\n",
       "      <th>GOOG</th>\n",
       "      <th>GOOG</th>\n",
       "      <th>GOOG</th>\n",
       "      <th>GOOG</th>\n",
       "    </tr>\n",
       "    <tr>\n",
       "      <th>Date</th>\n",
       "      <th></th>\n",
       "      <th></th>\n",
       "      <th></th>\n",
       "      <th></th>\n",
       "      <th></th>\n",
       "    </tr>\n",
       "  </thead>\n",
       "  <tbody>\n",
       "    <tr>\n",
       "      <th>2014-01-02</th>\n",
       "      <td>27.560261</td>\n",
       "      <td>27.674898</td>\n",
       "      <td>27.439930</td>\n",
       "      <td>27.618199</td>\n",
       "      <td>73129082</td>\n",
       "    </tr>\n",
       "    <tr>\n",
       "      <th>2014-01-03</th>\n",
       "      <td>27.359213</td>\n",
       "      <td>27.654593</td>\n",
       "      <td>27.357480</td>\n",
       "      <td>27.606808</td>\n",
       "      <td>66917888</td>\n",
       "    </tr>\n",
       "    <tr>\n",
       "      <th>2014-01-06</th>\n",
       "      <td>27.664251</td>\n",
       "      <td>27.702380</td>\n",
       "      <td>27.394868</td>\n",
       "      <td>27.557538</td>\n",
       "      <td>71037271</td>\n",
       "    </tr>\n",
       "    <tr>\n",
       "      <th>2014-01-07</th>\n",
       "      <td>28.197571</td>\n",
       "      <td>28.218122</td>\n",
       "      <td>27.759330</td>\n",
       "      <td>27.854405</td>\n",
       "      <td>102486711</td>\n",
       "    </tr>\n",
       "    <tr>\n",
       "      <th>2014-01-08</th>\n",
       "      <td>28.256250</td>\n",
       "      <td>28.407036</td>\n",
       "      <td>28.059659</td>\n",
       "      <td>28.374353</td>\n",
       "      <td>90036218</td>\n",
       "    </tr>\n",
       "    <tr>\n",
       "      <th>...</th>\n",
       "      <td>...</td>\n",
       "      <td>...</td>\n",
       "      <td>...</td>\n",
       "      <td>...</td>\n",
       "      <td>...</td>\n",
       "    </tr>\n",
       "    <tr>\n",
       "      <th>2024-12-23</th>\n",
       "      <td>195.531937</td>\n",
       "      <td>196.030768</td>\n",
       "      <td>191.182126</td>\n",
       "      <td>193.576511</td>\n",
       "      <td>15235900</td>\n",
       "    </tr>\n",
       "    <tr>\n",
       "      <th>2024-12-24</th>\n",
       "      <td>197.108261</td>\n",
       "      <td>197.208018</td>\n",
       "      <td>194.741796</td>\n",
       "      <td>195.711524</td>\n",
       "      <td>6809800</td>\n",
       "    </tr>\n",
       "    <tr>\n",
       "      <th>2024-12-26</th>\n",
       "      <td>196.639359</td>\n",
       "      <td>197.696879</td>\n",
       "      <td>195.412222</td>\n",
       "      <td>196.280199</td>\n",
       "      <td>7907900</td>\n",
       "    </tr>\n",
       "    <tr>\n",
       "      <th>2024-12-27</th>\n",
       "      <td>193.586487</td>\n",
       "      <td>196.340046</td>\n",
       "      <td>191.523327</td>\n",
       "      <td>196.010815</td>\n",
       "      <td>14693000</td>\n",
       "    </tr>\n",
       "    <tr>\n",
       "      <th>2024-12-30</th>\n",
       "      <td>192.239655</td>\n",
       "      <td>193.327103</td>\n",
       "      <td>189.915098</td>\n",
       "      <td>190.418923</td>\n",
       "      <td>12209500</td>\n",
       "    </tr>\n",
       "  </tbody>\n",
       "</table>\n",
       "<p>2767 rows × 5 columns</p>\n",
       "</div>"
      ],
      "text/plain": [
       "Price            Close        High         Low        Open     Volume\n",
       "Ticker            GOOG        GOOG        GOOG        GOOG       GOOG\n",
       "Date                                                                 \n",
       "2014-01-02   27.560261   27.674898   27.439930   27.618199   73129082\n",
       "2014-01-03   27.359213   27.654593   27.357480   27.606808   66917888\n",
       "2014-01-06   27.664251   27.702380   27.394868   27.557538   71037271\n",
       "2014-01-07   28.197571   28.218122   27.759330   27.854405  102486711\n",
       "2014-01-08   28.256250   28.407036   28.059659   28.374353   90036218\n",
       "...                ...         ...         ...         ...        ...\n",
       "2024-12-23  195.531937  196.030768  191.182126  193.576511   15235900\n",
       "2024-12-24  197.108261  197.208018  194.741796  195.711524    6809800\n",
       "2024-12-26  196.639359  197.696879  195.412222  196.280199    7907900\n",
       "2024-12-27  193.586487  196.340046  191.523327  196.010815   14693000\n",
       "2024-12-30  192.239655  193.327103  189.915098  190.418923   12209500\n",
       "\n",
       "[2767 rows x 5 columns]"
      ]
     },
     "execution_count": 4,
     "metadata": {},
     "output_type": "execute_result"
    }
   ],
   "source": [
    "data"
   ]
  },
  {
   "cell_type": "code",
   "execution_count": 3,
   "metadata": {
    "id": "l1BDQwOpmJU5"
   },
   "outputs": [],
   "source": [
    "data.reset_index(inplace=True)"
   ]
  },
  {
   "cell_type": "code",
   "execution_count": 4,
   "metadata": {
    "colab": {
     "base_uri": "https://localhost:8080/",
     "height": 455
    },
    "id": "OAicDqjJmSqe",
    "outputId": "a5485e3b-d307-4c86-c027-c496f03ec724"
   },
   "outputs": [
    {
     "data": {
      "text/html": [
       "<div>\n",
       "<style scoped>\n",
       "    .dataframe tbody tr th:only-of-type {\n",
       "        vertical-align: middle;\n",
       "    }\n",
       "\n",
       "    .dataframe tbody tr th {\n",
       "        vertical-align: top;\n",
       "    }\n",
       "\n",
       "    .dataframe thead tr th {\n",
       "        text-align: left;\n",
       "    }\n",
       "</style>\n",
       "<table border=\"1\" class=\"dataframe\">\n",
       "  <thead>\n",
       "    <tr>\n",
       "      <th>Price</th>\n",
       "      <th>Date</th>\n",
       "      <th>Close</th>\n",
       "      <th>High</th>\n",
       "      <th>Low</th>\n",
       "      <th>Open</th>\n",
       "      <th>Volume</th>\n",
       "    </tr>\n",
       "    <tr>\n",
       "      <th>Ticker</th>\n",
       "      <th></th>\n",
       "      <th>GOOG</th>\n",
       "      <th>GOOG</th>\n",
       "      <th>GOOG</th>\n",
       "      <th>GOOG</th>\n",
       "      <th>GOOG</th>\n",
       "    </tr>\n",
       "  </thead>\n",
       "  <tbody>\n",
       "    <tr>\n",
       "      <th>0</th>\n",
       "      <td>2014-01-02</td>\n",
       "      <td>27.560259</td>\n",
       "      <td>27.674896</td>\n",
       "      <td>27.439928</td>\n",
       "      <td>27.618197</td>\n",
       "      <td>73129082</td>\n",
       "    </tr>\n",
       "    <tr>\n",
       "      <th>1</th>\n",
       "      <td>2014-01-03</td>\n",
       "      <td>27.359215</td>\n",
       "      <td>27.654595</td>\n",
       "      <td>27.357482</td>\n",
       "      <td>27.606810</td>\n",
       "      <td>66917888</td>\n",
       "    </tr>\n",
       "    <tr>\n",
       "      <th>2</th>\n",
       "      <td>2014-01-06</td>\n",
       "      <td>27.664249</td>\n",
       "      <td>27.702378</td>\n",
       "      <td>27.394866</td>\n",
       "      <td>27.557536</td>\n",
       "      <td>71037271</td>\n",
       "    </tr>\n",
       "    <tr>\n",
       "      <th>3</th>\n",
       "      <td>2014-01-07</td>\n",
       "      <td>28.197567</td>\n",
       "      <td>28.218119</td>\n",
       "      <td>27.759326</td>\n",
       "      <td>27.854402</td>\n",
       "      <td>102486711</td>\n",
       "    </tr>\n",
       "    <tr>\n",
       "      <th>4</th>\n",
       "      <td>2014-01-08</td>\n",
       "      <td>28.256250</td>\n",
       "      <td>28.407036</td>\n",
       "      <td>28.059659</td>\n",
       "      <td>28.374353</td>\n",
       "      <td>90036218</td>\n",
       "    </tr>\n",
       "    <tr>\n",
       "      <th>...</th>\n",
       "      <td>...</td>\n",
       "      <td>...</td>\n",
       "      <td>...</td>\n",
       "      <td>...</td>\n",
       "      <td>...</td>\n",
       "      <td>...</td>\n",
       "    </tr>\n",
       "    <tr>\n",
       "      <th>2762</th>\n",
       "      <td>2024-12-23</td>\n",
       "      <td>195.531952</td>\n",
       "      <td>196.030783</td>\n",
       "      <td>191.182141</td>\n",
       "      <td>193.576526</td>\n",
       "      <td>15235900</td>\n",
       "    </tr>\n",
       "    <tr>\n",
       "      <th>2763</th>\n",
       "      <td>2024-12-24</td>\n",
       "      <td>197.108246</td>\n",
       "      <td>197.208003</td>\n",
       "      <td>194.741780</td>\n",
       "      <td>195.711509</td>\n",
       "      <td>6809800</td>\n",
       "    </tr>\n",
       "    <tr>\n",
       "      <th>2764</th>\n",
       "      <td>2024-12-26</td>\n",
       "      <td>196.639343</td>\n",
       "      <td>197.696863</td>\n",
       "      <td>195.412207</td>\n",
       "      <td>196.280184</td>\n",
       "      <td>7907900</td>\n",
       "    </tr>\n",
       "    <tr>\n",
       "      <th>2765</th>\n",
       "      <td>2024-12-27</td>\n",
       "      <td>193.586487</td>\n",
       "      <td>196.340046</td>\n",
       "      <td>191.523327</td>\n",
       "      <td>196.010815</td>\n",
       "      <td>14693000</td>\n",
       "    </tr>\n",
       "    <tr>\n",
       "      <th>2766</th>\n",
       "      <td>2024-12-30</td>\n",
       "      <td>192.239655</td>\n",
       "      <td>193.327103</td>\n",
       "      <td>189.915098</td>\n",
       "      <td>190.418923</td>\n",
       "      <td>12209500</td>\n",
       "    </tr>\n",
       "  </tbody>\n",
       "</table>\n",
       "<p>2767 rows × 6 columns</p>\n",
       "</div>"
      ],
      "text/plain": [
       "Price        Date       Close        High         Low        Open     Volume\n",
       "Ticker                   GOOG        GOOG        GOOG        GOOG       GOOG\n",
       "0      2014-01-02   27.560259   27.674896   27.439928   27.618197   73129082\n",
       "1      2014-01-03   27.359215   27.654595   27.357482   27.606810   66917888\n",
       "2      2014-01-06   27.664249   27.702378   27.394866   27.557536   71037271\n",
       "3      2014-01-07   28.197567   28.218119   27.759326   27.854402  102486711\n",
       "4      2014-01-08   28.256250   28.407036   28.059659   28.374353   90036218\n",
       "...           ...         ...         ...         ...         ...        ...\n",
       "2762   2024-12-23  195.531952  196.030783  191.182141  193.576526   15235900\n",
       "2763   2024-12-24  197.108246  197.208003  194.741780  195.711509    6809800\n",
       "2764   2024-12-26  196.639343  197.696863  195.412207  196.280184    7907900\n",
       "2765   2024-12-27  193.586487  196.340046  191.523327  196.010815   14693000\n",
       "2766   2024-12-30  192.239655  193.327103  189.915098  190.418923   12209500\n",
       "\n",
       "[2767 rows x 6 columns]"
      ]
     },
     "execution_count": 4,
     "metadata": {},
     "output_type": "execute_result"
    }
   ],
   "source": [
    "data"
   ]
  },
  {
   "cell_type": "code",
   "execution_count": 5,
   "metadata": {
    "id": "BxbxzApnmo4r"
   },
   "outputs": [],
   "source": [
    "ma_100_days = data.Close.rolling(100).mean()"
   ]
  },
  {
   "cell_type": "code",
   "execution_count": 6,
   "metadata": {
    "colab": {
     "base_uri": "https://localhost:8080/",
     "height": 499
    },
    "id": "hxpLpvAtm-bP",
    "outputId": "530a4013-bc8f-4504-e67d-5c8a3cef20c3"
   },
   "outputs": [
    {
     "data": {
      "image/png": "[encoded data removed]",
      "text/plain": [
       "<Figure size 800x600 with 1 Axes>"
      ]
     },
     "metadata": {},
     "output_type": "display_data"
    }
   ],
   "source": [
    "plt.figure(figsize=(8,6))\n",
    "plt.plot(ma_100_days, 'r')\n",
    "plt.plot(data.Close, 'b')\n",
    "plt.show()"
   ]
  },
  {
   "cell_type": "code",
   "execution_count": 7,
   "metadata": {
    "id": "NTL2SjoSnVh9"
   },
   "outputs": [],
   "source": [
    "ma_200_days = data.Close.rolling(200).mean()"
   ]
  },
  {
   "cell_type": "code",
   "execution_count": 8,
   "metadata": {
    "colab": {
     "base_uri": "https://localhost:8080/",
     "height": 499
    },
    "id": "3m1HjI5Nneh_",
    "outputId": "eb5c38f9-6b1c-45aa-e71c-45c785a17bdd"
   },
   "outputs": [
    {
     "data": {
      "image/png": "[encoded data removed]",
      "text/plain": [
       "<Figure size 800x600 with 1 Axes>"
      ]
     },
     "metadata": {},
     "output_type": "display_data"
    }
   ],
   "source": [
    "plt.figure(figsize=(8,6))\n",
    "plt.plot(ma_100_days, 'r')\n",
    "plt.plot(ma_200_days, 'g')\n",
    "plt.plot(data.Close, 'b')\n",
    "plt.show()"
   ]
  },
  {
   "cell_type": "code",
   "execution_count": 9,
   "metadata": {
    "id": "BsW0li47njsE"
   },
   "outputs": [],
   "source": [
    "data.dropna(inplace=True)"
   ]
  },
  {
   "cell_type": "code",
   "execution_count": 24,
   "metadata": {
    "id": "Rm2-oUKtnyAN"
   },
   "outputs": [],
   "source": [
    "data_train = pd.DataFrame(data.Close[0:int(len(data)*0.80)])\n",
    "data_test = pd.DataFrame(data.Close[int(len(data)*0.80):int(len(data))])"
   ]
  },
  {
   "cell_type": "code",
   "execution_count": 25,
   "metadata": {
    "colab": {
     "base_uri": "https://localhost:8080/"
    },
    "id": "NEobzay5oKI6",
    "outputId": "0b192e8f-3955-4697-b02d-3414450d5158"
   },
   "outputs": [
    {
     "data": {
      "text/plain": [
       "(2213, 554)"
      ]
     },
     "execution_count": 25,
     "metadata": {},
     "output_type": "execute_result"
    }
   ],
   "source": [
    "data_train.shape[0], data_test.shape[0]"
   ]
  },
  {
   "cell_type": "code",
   "execution_count": 27,
   "metadata": {
    "id": "5SsLFVmLoN-H"
   },
   "outputs": [],
   "source": [
    "from sklearn.preprocessing import MinMaxScaler\n",
    "scaler = MinMaxScaler(feature_range=(0,1))"
   ]
  },
  {
   "cell_type": "code",
   "execution_count": 28,
   "metadata": {
    "id": "oDGiswRLoSvZ"
   },
   "outputs": [],
   "source": [
    "data_train_scale = scaler.fit_transform(data_train)"
   ]
  },
  {
   "cell_type": "code",
   "execution_count": 29,
   "metadata": {
    "id": "6OZrk5pMofxI"
   },
   "outputs": [],
   "source": [
    "x = []\n",
    "y = []\n",
    "for i in range(100, data_train_scale.shape[0]):\n",
    "  x.append(data_train_scale[i-100:i])\n",
    "  y.append(data_train_scale[i,0])\n",
    "\n",
    "x, y = np.array(x), np.array(y)"
   ]
  },
  {
   "cell_type": "code",
   "execution_count": 30,
   "metadata": {
    "id": "4Rfkcnlzo4Vj"
   },
   "outputs": [],
   "source": [
    "from tensorflow.keras.layers import Dense, Dropout, LSTM\n",
    "from tensorflow.keras.models import Sequential"
   ]
  },
  {
   "cell_type": "code",
   "execution_count": 16,
   "metadata": {
    "id": "hSTYfZYbpfiJ"
   },
   "outputs": [
    {
     "name": "stderr",
     "output_type": "stream",
     "text": [
      "C:\\Users\\ayush\\AppData\\Local\\Programs\\Python\\Python312\\Lib\\site-packages\\keras\\src\\layers\\rnn\\rnn.py:199: UserWarning: Do not pass an `input_shape`/`input_dim` argument to a layer. When using Sequential models, prefer using an `Input(shape)` object as the first layer in the model instead.\n",
      "  super().__init__(**kwargs)\n"
     ]
    }
   ],
   "source": [
    "model = Sequential()\n",
    "model.add(LSTM(units=50, activation='relu', return_sequences=True,\n",
    "               input_shape=(x.shape[1],1)))\n",
    "model.add(Dropout(0.2))\n",
    "\n",
    "model.add(LSTM(units=60, activation='relu', return_sequences=True))\n",
    "model.add(Dropout(0.3))\n",
    "\n",
    "model.add(LSTM(units=80, activation='relu', return_sequences=True))\n",
    "model.add(Dropout(0.4))\n",
    "\n",
    "model.add(LSTM(units=120, activation='relu'))\n",
    "model.add(Dropout(0.5))\n",
    "\n",
    "model.add(Dense(units=1))"
   ]
  },
  {
   "cell_type": "code",
   "execution_count": 17,
   "metadata": {
    "id": "ql8jwsuUqdHS"
   },
   "outputs": [],
   "source": [
    "model.compile(optimizer='adam', loss='mean_squared_error')"
   ]
  },
  {
   "cell_type": "code",
   "execution_count": 18,
   "metadata": {
    "colab": {
     "base_uri": "https://localhost:8080/"
    },
    "id": "RruMs2e7rNsY",
    "outputId": "9966eddd-85b3-48ee-c7a9-96c6be3b7ac6"
   },
   "outputs": [
    {
     "name": "stdout",
     "output_type": "stream",
     "text": [
      "Epoch 1/50\n",
      "\u001b[1m67/67\u001b[0m \u001b[32m━━━━━━━━━━━━━━━━━━━━\u001b[0m\u001b[37m\u001b[0m \u001b[1m10s\u001b[0m 99ms/step - loss: 0.0585\n",
      "Epoch 2/50\n",
      "\u001b[1m67/67\u001b[0m \u001b[32m━━━━━━━━━━━━━━━━━━━━\u001b[0m\u001b[37m\u001b[0m \u001b[1m6s\u001b[0m 95ms/step - loss: 0.0060\n",
      "Epoch 3/50\n",
      "\u001b[1m67/67\u001b[0m \u001b[32m━━━━━━━━━━━━━━━━━━━━\u001b[0m\u001b[37m\u001b[0m \u001b[1m6s\u001b[0m 95ms/step - loss: 0.0059\n",
      "Epoch 4/50\n",
      "\u001b[1m67/67\u001b[0m \u001b[32m━━━━━━━━━━━━━━━━━━━━\u001b[0m\u001b[37m\u001b[0m \u001b[1m6s\u001b[0m 95ms/step - loss: 0.0061\n",
      "Epoch 5/50\n",
      "\u001b[1m67/67\u001b[0m \u001b[32m━━━━━━━━━━━━━━━━━━━━\u001b[0m\u001b[37m\u001b[0m \u001b[1m7s\u001b[0m 98ms/step - loss: 0.0084\n",
      "Epoch 6/50\n",
      "\u001b[1m67/67\u001b[0m \u001b[32m━━━━━━━━━━━━━━━━━━━━\u001b[0m\u001b[37m\u001b[0m \u001b[1m7s\u001b[0m 104ms/step - loss: 0.0056\n",
      "Epoch 7/50\n",
      "\u001b[1m67/67\u001b[0m \u001b[32m━━━━━━━━━━━━━━━━━━━━\u001b[0m\u001b[37m\u001b[0m \u001b[1m7s\u001b[0m 104ms/step - loss: 0.0044\n",
      "Epoch 8/50\n",
      "\u001b[1m67/67\u001b[0m \u001b[32m━━━━━━━━━━━━━━━━━━━━\u001b[0m\u001b[37m\u001b[0m \u001b[1m7s\u001b[0m 106ms/step - loss: 0.0050\n",
      "Epoch 9/50\n",
      "\u001b[1m67/67\u001b[0m \u001b[32m━━━━━━━━━━━━━━━━━━━━\u001b[0m\u001b[37m\u001b[0m \u001b[1m7s\u001b[0m 106ms/step - loss: 0.0040\n",
      "Epoch 10/50\n",
      "\u001b[1m67/67\u001b[0m \u001b[32m━━━━━━━━━━━━━━━━━━━━\u001b[0m\u001b[37m\u001b[0m \u001b[1m7s\u001b[0m 101ms/step - loss: 0.0039\n",
      "Epoch 11/50\n",
      "\u001b[1m67/67\u001b[0m \u001b[32m━━━━━━━━━━━━━━━━━━━━\u001b[0m\u001b[37m\u001b[0m \u001b[1m7s\u001b[0m 97ms/step - loss: 0.0039\n",
      "Epoch 12/50\n",
      "\u001b[1m67/67\u001b[0m \u001b[32m━━━━━━━━━━━━━━━━━━━━\u001b[0m\u001b[37m\u001b[0m \u001b[1m6s\u001b[0m 96ms/step - loss: 0.0039\n",
      "Epoch 13/50\n",
      "\u001b[1m67/67\u001b[0m \u001b[32m━━━━━━━━━━━━━━━━━━━━\u001b[0m\u001b[37m\u001b[0m \u001b[1m7s\u001b[0m 100ms/step - loss: 0.0038\n",
      "Epoch 14/50\n",
      "\u001b[1m67/67\u001b[0m \u001b[32m━━━━━━━━━━━━━━━━━━━━\u001b[0m\u001b[37m\u001b[0m \u001b[1m6s\u001b[0m 95ms/step - loss: 0.0044\n",
      "Epoch 15/50\n",
      "\u001b[1m67/67\u001b[0m \u001b[32m━━━━━━━━━━━━━━━━━━━━\u001b[0m\u001b[37m\u001b[0m \u001b[1m6s\u001b[0m 95ms/step - loss: 0.0036\n",
      "Epoch 16/50\n",
      "\u001b[1m67/67\u001b[0m \u001b[32m━━━━━━━━━━━━━━━━━━━━\u001b[0m\u001b[37m\u001b[0m \u001b[1m6s\u001b[0m 93ms/step - loss: 0.0036\n",
      "Epoch 17/50\n",
      "\u001b[1m67/67\u001b[0m \u001b[32m━━━━━━━━━━━━━━━━━━━━\u001b[0m\u001b[37m\u001b[0m \u001b[1m6s\u001b[0m 94ms/step - loss: 0.0068\n",
      "Epoch 18/50\n",
      "\u001b[1m67/67\u001b[0m \u001b[32m━━━━━━━━━━━━━━━━━━━━\u001b[0m\u001b[37m\u001b[0m \u001b[1m6s\u001b[0m 95ms/step - loss: 0.0036\n",
      "Epoch 19/50\n",
      "\u001b[1m67/67\u001b[0m \u001b[32m━━━━━━━━━━━━━━━━━━━━\u001b[0m\u001b[37m\u001b[0m \u001b[1m6s\u001b[0m 94ms/step - loss: 0.0035\n",
      "Epoch 20/50\n",
      "\u001b[1m67/67\u001b[0m \u001b[32m━━━━━━━━━━━━━━━━━━━━\u001b[0m\u001b[37m\u001b[0m \u001b[1m6s\u001b[0m 94ms/step - loss: 0.0027\n",
      "Epoch 21/50\n",
      "\u001b[1m67/67\u001b[0m \u001b[32m━━━━━━━━━━━━━━━━━━━━\u001b[0m\u001b[37m\u001b[0m \u001b[1m6s\u001b[0m 95ms/step - loss: 0.0031\n",
      "Epoch 22/50\n",
      "\u001b[1m67/67\u001b[0m \u001b[32m━━━━━━━━━━━━━━━━━━━━\u001b[0m\u001b[37m\u001b[0m \u001b[1m6s\u001b[0m 95ms/step - loss: 0.0041\n",
      "Epoch 23/50\n",
      "\u001b[1m67/67\u001b[0m \u001b[32m━━━━━━━━━━━━━━━━━━━━\u001b[0m\u001b[37m\u001b[0m \u001b[1m7s\u001b[0m 100ms/step - loss: 0.0030\n",
      "Epoch 24/50\n",
      "\u001b[1m67/67\u001b[0m \u001b[32m━━━━━━━━━━━━━━━━━━━━\u001b[0m\u001b[37m\u001b[0m \u001b[1m8s\u001b[0m 121ms/step - loss: 0.0032\n",
      "Epoch 25/50\n",
      "\u001b[1m67/67\u001b[0m \u001b[32m━━━━━━━━━━━━━━━━━━━━\u001b[0m\u001b[37m\u001b[0m \u001b[1m8s\u001b[0m 116ms/step - loss: 0.0031\n",
      "Epoch 26/50\n",
      "\u001b[1m67/67\u001b[0m \u001b[32m━━━━━━━━━━━━━━━━━━━━\u001b[0m\u001b[37m\u001b[0m \u001b[1m7s\u001b[0m 104ms/step - loss: 0.0050\n",
      "Epoch 27/50\n",
      "\u001b[1m67/67\u001b[0m \u001b[32m━━━━━━━━━━━━━━━━━━━━\u001b[0m\u001b[37m\u001b[0m \u001b[1m7s\u001b[0m 104ms/step - loss: 0.0034\n",
      "Epoch 28/50\n",
      "\u001b[1m67/67\u001b[0m \u001b[32m━━━━━━━━━━━━━━━━━━━━\u001b[0m\u001b[37m\u001b[0m \u001b[1m7s\u001b[0m 102ms/step - loss: 0.0027\n",
      "Epoch 29/50\n",
      "\u001b[1m67/67\u001b[0m \u001b[32m━━━━━━━━━━━━━━━━━━━━\u001b[0m\u001b[37m\u001b[0m \u001b[1m8s\u001b[0m 113ms/step - loss: 0.0025\n",
      "Epoch 30/50\n",
      "\u001b[1m67/67\u001b[0m \u001b[32m━━━━━━━━━━━━━━━━━━━━\u001b[0m\u001b[37m\u001b[0m \u001b[1m8s\u001b[0m 118ms/step - loss: 0.0029\n",
      "Epoch 31/50\n",
      "\u001b[1m67/67\u001b[0m \u001b[32m━━━━━━━━━━━━━━━━━━━━\u001b[0m\u001b[37m\u001b[0m \u001b[1m8s\u001b[0m 112ms/step - loss: 0.0028\n",
      "Epoch 32/50\n",
      "\u001b[1m67/67\u001b[0m \u001b[32m━━━━━━━━━━━━━━━━━━━━\u001b[0m\u001b[37m\u001b[0m \u001b[1m8s\u001b[0m 112ms/step - loss: 0.0029\n",
      "Epoch 33/50\n",
      "\u001b[1m67/67\u001b[0m \u001b[32m━━━━━━━━━━━━━━━━━━━━\u001b[0m\u001b[37m\u001b[0m \u001b[1m7s\u001b[0m 109ms/step - loss: 0.0029\n",
      "Epoch 34/50\n",
      "\u001b[1m67/67\u001b[0m \u001b[32m━━━━━━━━━━━━━━━━━━━━\u001b[0m\u001b[37m\u001b[0m \u001b[1m8s\u001b[0m 115ms/step - loss: 0.0041\n",
      "Epoch 35/50\n",
      "\u001b[1m67/67\u001b[0m \u001b[32m━━━━━━━━━━━━━━━━━━━━\u001b[0m\u001b[37m\u001b[0m \u001b[1m7s\u001b[0m 100ms/step - loss: 0.0028\n",
      "Epoch 36/50\n",
      "\u001b[1m67/67\u001b[0m \u001b[32m━━━━━━━━━━━━━━━━━━━━\u001b[0m\u001b[37m\u001b[0m \u001b[1m7s\u001b[0m 101ms/step - loss: 0.0024\n",
      "Epoch 37/50\n",
      "\u001b[1m67/67\u001b[0m \u001b[32m━━━━━━━━━━━━━━━━━━━━\u001b[0m\u001b[37m\u001b[0m \u001b[1m7s\u001b[0m 106ms/step - loss: 0.0024\n",
      "Epoch 38/50\n",
      "\u001b[1m67/67\u001b[0m \u001b[32m━━━━━━━━━━━━━━━━━━━━\u001b[0m\u001b[37m\u001b[0m \u001b[1m8s\u001b[0m 119ms/step - loss: 0.0025\n",
      "Epoch 39/50\n",
      "\u001b[1m67/67\u001b[0m \u001b[32m━━━━━━━━━━━━━━━━━━━━\u001b[0m\u001b[37m\u001b[0m \u001b[1m7s\u001b[0m 108ms/step - loss: 0.0026\n",
      "Epoch 40/50\n",
      "\u001b[1m67/67\u001b[0m \u001b[32m━━━━━━━━━━━━━━━━━━━━\u001b[0m\u001b[37m\u001b[0m \u001b[1m7s\u001b[0m 111ms/step - loss: 0.0023\n",
      "Epoch 41/50\n",
      "\u001b[1m67/67\u001b[0m \u001b[32m━━━━━━━━━━━━━━━━━━━━\u001b[0m\u001b[37m\u001b[0m \u001b[1m8s\u001b[0m 114ms/step - loss: 0.0024\n",
      "Epoch 42/50\n",
      "\u001b[1m67/67\u001b[0m \u001b[32m━━━━━━━━━━━━━━━━━━━━\u001b[0m\u001b[37m\u001b[0m \u001b[1m8s\u001b[0m 115ms/step - loss: 0.0022\n",
      "Epoch 43/50\n",
      "\u001b[1m67/67\u001b[0m \u001b[32m━━━━━━━━━━━━━━━━━━━━\u001b[0m\u001b[37m\u001b[0m \u001b[1m7s\u001b[0m 108ms/step - loss: 0.0029\n",
      "Epoch 44/50\n",
      "\u001b[1m67/67\u001b[0m \u001b[32m━━━━━━━━━━━━━━━━━━━━\u001b[0m\u001b[37m\u001b[0m \u001b[1m8s\u001b[0m 112ms/step - loss: 0.0024\n",
      "Epoch 45/50\n",
      "\u001b[1m67/67\u001b[0m \u001b[32m━━━━━━━━━━━━━━━━━━━━\u001b[0m\u001b[37m\u001b[0m \u001b[1m7s\u001b[0m 112ms/step - loss: 0.0080\n",
      "Epoch 46/50\n",
      "\u001b[1m67/67\u001b[0m \u001b[32m━━━━━━━━━━━━━━━━━━━━\u001b[0m\u001b[37m\u001b[0m \u001b[1m8s\u001b[0m 117ms/step - loss: 0.0026\n",
      "Epoch 47/50\n",
      "\u001b[1m67/67\u001b[0m \u001b[32m━━━━━━━━━━━━━━━━━━━━\u001b[0m\u001b[37m\u001b[0m \u001b[1m7s\u001b[0m 109ms/step - loss: 0.0025\n",
      "Epoch 48/50\n",
      "\u001b[1m67/67\u001b[0m \u001b[32m━━━━━━━━━━━━━━━━━━━━\u001b[0m\u001b[37m\u001b[0m \u001b[1m7s\u001b[0m 111ms/step - loss: 0.0025\n",
      "Epoch 49/50\n",
      "\u001b[1m67/67\u001b[0m \u001b[32m━━━━━━━━━━━━━━━━━━━━\u001b[0m\u001b[37m\u001b[0m \u001b[1m8s\u001b[0m 113ms/step - loss: 0.0025\n",
      "Epoch 50/50\n",
      "\u001b[1m67/67\u001b[0m \u001b[32m━━━━━━━━━━━━━━━━━━━━\u001b[0m\u001b[37m\u001b[0m \u001b[1m7s\u001b[0m 103ms/step - loss: 0.0024\n"
     ]
    },
    {
     "data": {
      "text/plain": [
       "<keras.src.callbacks.history.History at 0x1ba316a3530>"
      ]
     },
     "execution_count": 18,
     "metadata": {},
     "output_type": "execute_result"
    }
   ],
   "source": [
    "model.fit(x, y, epochs=50, batch_size=32, verbose=1)"
   ]
  },
  {
   "cell_type": "code",
   "execution_count": 19,
   "metadata": {
    "colab": {
     "base_uri": "https://localhost:8080/",
     "height": 433
    },
    "id": "jeQDGvZZrQ3Z",
    "outputId": "caf21557-a04a-4d9a-d0ae-377492f3bcca"
   },
   "outputs": [
    {
     "data": {
      "text/html": [
       "<pre style=\"white-space:pre;overflow-x:auto;line-height:normal;font-family:Menlo,'DejaVu Sans Mono',consolas,'Courier New',monospace\"><span style=\"font-weight: bold\">Model: \"sequential\"</span>\n",
       "</pre>\n"
      ],
      "text/plain": [
       "\u001b[1mModel: \"sequential\"\u001b[0m\n"
      ]
     },
     "metadata": {},
     "output_type": "display_data"
    },
    {
     "data": {
      "text/html": [
       "<pre style=\"white-space:pre;overflow-x:auto;line-height:normal;font-family:Menlo,'DejaVu Sans Mono',consolas,'Courier New',monospace\">┏━━━━━━━━━━━━━━━━━━━━━━━━━━━━━━━━━━━━━━┳━━━━━━━━━━━━━━━━━━━━━━━━━━━━━┳━━━━━━━━━━━━━━━━━┓\n",
       "┃<span style=\"font-weight: bold\"> Layer (type)                         </span>┃<span style=\"font-weight: bold\"> Output Shape                </span>┃<span style=\"font-weight: bold\">         Param # </span>┃\n",
       "┡━━━━━━━━━━━━━━━━━━━━━━━━━━━━━━━━━━━━━━╇━━━━━━━━━━━━━━━━━━━━━━━━━━━━━╇━━━━━━━━━━━━━━━━━┩\n",
       "│ lstm (<span style=\"color: #0087ff; text-decoration-color: #0087ff\">LSTM</span>)                          │ (<span style=\"color: #00d7ff; text-decoration-color: #00d7ff\">None</span>, <span style=\"color: #00af00; text-decoration-color: #00af00\">100</span>, <span style=\"color: #00af00; text-decoration-color: #00af00\">50</span>)             │          <span style=\"color: #00af00; text-decoration-color: #00af00\">10,400</span> │\n",
       "├──────────────────────────────────────┼─────────────────────────────┼─────────────────┤\n",
       "│ dropout (<span style=\"color: #0087ff; text-decoration-color: #0087ff\">Dropout</span>)                    │ (<span style=\"color: #00d7ff; text-decoration-color: #00d7ff\">None</span>, <span style=\"color: #00af00; text-decoration-color: #00af00\">100</span>, <span style=\"color: #00af00; text-decoration-color: #00af00\">50</span>)             │               <span style=\"color: #00af00; text-decoration-color: #00af00\">0</span> │\n",
       "├──────────────────────────────────────┼─────────────────────────────┼─────────────────┤\n",
       "│ lstm_1 (<span style=\"color: #0087ff; text-decoration-color: #0087ff\">LSTM</span>)                        │ (<span style=\"color: #00d7ff; text-decoration-color: #00d7ff\">None</span>, <span style=\"color: #00af00; text-decoration-color: #00af00\">100</span>, <span style=\"color: #00af00; text-decoration-color: #00af00\">60</span>)             │          <span style=\"color: #00af00; text-decoration-color: #00af00\">26,640</span> │\n",
       "├──────────────────────────────────────┼─────────────────────────────┼─────────────────┤\n",
       "│ dropout_1 (<span style=\"color: #0087ff; text-decoration-color: #0087ff\">Dropout</span>)                  │ (<span style=\"color: #00d7ff; text-decoration-color: #00d7ff\">None</span>, <span style=\"color: #00af00; text-decoration-color: #00af00\">100</span>, <span style=\"color: #00af00; text-decoration-color: #00af00\">60</span>)             │               <span style=\"color: #00af00; text-decoration-color: #00af00\">0</span> │\n",
       "├──────────────────────────────────────┼─────────────────────────────┼─────────────────┤\n",
       "│ lstm_2 (<span style=\"color: #0087ff; text-decoration-color: #0087ff\">LSTM</span>)                        │ (<span style=\"color: #00d7ff; text-decoration-color: #00d7ff\">None</span>, <span style=\"color: #00af00; text-decoration-color: #00af00\">100</span>, <span style=\"color: #00af00; text-decoration-color: #00af00\">80</span>)             │          <span style=\"color: #00af00; text-decoration-color: #00af00\">45,120</span> │\n",
       "├──────────────────────────────────────┼─────────────────────────────┼─────────────────┤\n",
       "│ dropout_2 (<span style=\"color: #0087ff; text-decoration-color: #0087ff\">Dropout</span>)                  │ (<span style=\"color: #00d7ff; text-decoration-color: #00d7ff\">None</span>, <span style=\"color: #00af00; text-decoration-color: #00af00\">100</span>, <span style=\"color: #00af00; text-decoration-color: #00af00\">80</span>)             │               <span style=\"color: #00af00; text-decoration-color: #00af00\">0</span> │\n",
       "├──────────────────────────────────────┼─────────────────────────────┼─────────────────┤\n",
       "│ lstm_3 (<span style=\"color: #0087ff; text-decoration-color: #0087ff\">LSTM</span>)                        │ (<span style=\"color: #00d7ff; text-decoration-color: #00d7ff\">None</span>, <span style=\"color: #00af00; text-decoration-color: #00af00\">120</span>)                 │          <span style=\"color: #00af00; text-decoration-color: #00af00\">96,480</span> │\n",
       "├──────────────────────────────────────┼─────────────────────────────┼─────────────────┤\n",
       "│ dropout_3 (<span style=\"color: #0087ff; text-decoration-color: #0087ff\">Dropout</span>)                  │ (<span style=\"color: #00d7ff; text-decoration-color: #00d7ff\">None</span>, <span style=\"color: #00af00; text-decoration-color: #00af00\">120</span>)                 │               <span style=\"color: #00af00; text-decoration-color: #00af00\">0</span> │\n",
       "├──────────────────────────────────────┼─────────────────────────────┼─────────────────┤\n",
       "│ dense (<span style=\"color: #0087ff; text-decoration-color: #0087ff\">Dense</span>)                        │ (<span style=\"color: #00d7ff; text-decoration-color: #00d7ff\">None</span>, <span style=\"color: #00af00; text-decoration-color: #00af00\">1</span>)                   │             <span style=\"color: #00af00; text-decoration-color: #00af00\">121</span> │\n",
       "└──────────────────────────────────────┴─────────────────────────────┴─────────────────┘\n",
       "</pre>\n"
      ],
      "text/plain": [
       "┏━━━━━━━━━━━━━━━━━━━━━━━━━━━━━━━━━━━━━━┳━━━━━━━━━━━━━━━━━━━━━━━━━━━━━┳━━━━━━━━━━━━━━━━━┓\n",
       "┃\u001b[1m \u001b[0m\u001b[1mLayer (type)                        \u001b[0m\u001b[1m \u001b[0m┃\u001b[1m \u001b[0m\u001b[1mOutput Shape               \u001b[0m\u001b[1m \u001b[0m┃\u001b[1m \u001b[0m\u001b[1m        Param #\u001b[0m\u001b[1m \u001b[0m┃\n",
       "┡━━━━━━━━━━━━━━━━━━━━━━━━━━━━━━━━━━━━━━╇━━━━━━━━━━━━━━━━━━━━━━━━━━━━━╇━━━━━━━━━━━━━━━━━┩\n",
       "│ lstm (\u001b[38;5;33mLSTM\u001b[0m)                          │ (\u001b[38;5;45mNone\u001b[0m, \u001b[38;5;34m100\u001b[0m, \u001b[38;5;34m50\u001b[0m)             │          \u001b[38;5;34m10,400\u001b[0m │\n",
       "├──────────────────────────────────────┼─────────────────────────────┼─────────────────┤\n",
       "│ dropout (\u001b[38;5;33mDropout\u001b[0m)                    │ (\u001b[38;5;45mNone\u001b[0m, \u001b[38;5;34m100\u001b[0m, \u001b[38;5;34m50\u001b[0m)             │               \u001b[38;5;34m0\u001b[0m │\n",
       "├──────────────────────────────────────┼─────────────────────────────┼─────────────────┤\n",
       "│ lstm_1 (\u001b[38;5;33mLSTM\u001b[0m)                        │ (\u001b[38;5;45mNone\u001b[0m, \u001b[38;5;34m100\u001b[0m, \u001b[38;5;34m60\u001b[0m)             │          \u001b[38;5;34m26,640\u001b[0m │\n",
       "├──────────────────────────────────────┼─────────────────────────────┼─────────────────┤\n",
       "│ dropout_1 (\u001b[38;5;33mDropout\u001b[0m)                  │ (\u001b[38;5;45mNone\u001b[0m, \u001b[38;5;34m100\u001b[0m, \u001b[38;5;34m60\u001b[0m)             │               \u001b[38;5;34m0\u001b[0m │\n",
       "├──────────────────────────────────────┼─────────────────────────────┼─────────────────┤\n",
       "│ lstm_2 (\u001b[38;5;33mLSTM\u001b[0m)                        │ (\u001b[38;5;45mNone\u001b[0m, \u001b[38;5;34m100\u001b[0m, \u001b[38;5;34m80\u001b[0m)             │          \u001b[38;5;34m45,120\u001b[0m │\n",
       "├──────────────────────────────────────┼─────────────────────────────┼─────────────────┤\n",
       "│ dropout_2 (\u001b[38;5;33mDropout\u001b[0m)                  │ (\u001b[38;5;45mNone\u001b[0m, \u001b[38;5;34m100\u001b[0m, \u001b[38;5;34m80\u001b[0m)             │               \u001b[38;5;34m0\u001b[0m │\n",
       "├──────────────────────────────────────┼─────────────────────────────┼─────────────────┤\n",
       "│ lstm_3 (\u001b[38;5;33mLSTM\u001b[0m)                        │ (\u001b[38;5;45mNone\u001b[0m, \u001b[38;5;34m120\u001b[0m)                 │          \u001b[38;5;34m96,480\u001b[0m │\n",
       "├──────────────────────────────────────┼─────────────────────────────┼─────────────────┤\n",
       "│ dropout_3 (\u001b[38;5;33mDropout\u001b[0m)                  │ (\u001b[38;5;45mNone\u001b[0m, \u001b[38;5;34m120\u001b[0m)                 │               \u001b[38;5;34m0\u001b[0m │\n",
       "├──────────────────────────────────────┼─────────────────────────────┼─────────────────┤\n",
       "│ dense (\u001b[38;5;33mDense\u001b[0m)                        │ (\u001b[38;5;45mNone\u001b[0m, \u001b[38;5;34m1\u001b[0m)                   │             \u001b[38;5;34m121\u001b[0m │\n",
       "└──────────────────────────────────────┴─────────────────────────────┴─────────────────┘\n"
      ]
     },
     "metadata": {},
     "output_type": "display_data"
    },
    {
     "data": {
      "text/html": [
       "<pre style=\"white-space:pre;overflow-x:auto;line-height:normal;font-family:Menlo,'DejaVu Sans Mono',consolas,'Courier New',monospace\"><span style=\"font-weight: bold\"> Total params: </span><span style=\"color: #00af00; text-decoration-color: #00af00\">536,285</span> (2.05 MB)\n",
       "</pre>\n"
      ],
      "text/plain": [
       "\u001b[1m Total params: \u001b[0m\u001b[38;5;34m536,285\u001b[0m (2.05 MB)\n"
      ]
     },
     "metadata": {},
     "output_type": "display_data"
    },
    {
     "data": {
      "text/html": [
       "<pre style=\"white-space:pre;overflow-x:auto;line-height:normal;font-family:Menlo,'DejaVu Sans Mono',consolas,'Courier New',monospace\"><span style=\"font-weight: bold\"> Trainable params: </span><span style=\"color: #00af00; text-decoration-color: #00af00\">178,761</span> (698.29 KB)\n",
       "</pre>\n"
      ],
      "text/plain": [
       "\u001b[1m Trainable params: \u001b[0m\u001b[38;5;34m178,761\u001b[0m (698.29 KB)\n"
      ]
     },
     "metadata": {},
     "output_type": "display_data"
    },
    {
     "data": {
      "text/html": [
       "<pre style=\"white-space:pre;overflow-x:auto;line-height:normal;font-family:Menlo,'DejaVu Sans Mono',consolas,'Courier New',monospace\"><span style=\"font-weight: bold\"> Non-trainable params: </span><span style=\"color: #00af00; text-decoration-color: #00af00\">0</span> (0.00 B)\n",
       "</pre>\n"
      ],
      "text/plain": [
       "\u001b[1m Non-trainable params: \u001b[0m\u001b[38;5;34m0\u001b[0m (0.00 B)\n"
      ]
     },
     "metadata": {},
     "output_type": "display_data"
    },
    {
     "data": {
      "text/html": [
       "<pre style=\"white-space:pre;overflow-x:auto;line-height:normal;font-family:Menlo,'DejaVu Sans Mono',consolas,'Courier New',monospace\"><span style=\"font-weight: bold\"> Optimizer params: </span><span style=\"color: #00af00; text-decoration-color: #00af00\">357,524</span> (1.36 MB)\n",
       "</pre>\n"
      ],
      "text/plain": [
       "\u001b[1m Optimizer params: \u001b[0m\u001b[38;5;34m357,524\u001b[0m (1.36 MB)\n"
      ]
     },
     "metadata": {},
     "output_type": "display_data"
    }
   ],
   "source": [
    "model.summary()"
   ]
  },
  {
   "cell_type": "code",
   "execution_count": 20,
   "metadata": {
    "id": "Ig9FnRdixavT"
   },
   "outputs": [],
   "source": [
    "pas_100_days = data_train.tail(100)"
   ]
  },
  {
   "cell_type": "code",
   "execution_count": 21,
   "metadata": {
    "id": "O6q-Esn_x98Z"
   },
   "outputs": [],
   "source": [
    "data_test = pd.concat([pas_100_days, data_test], ignore_index=True)"
   ]
  },
  {
   "cell_type": "code",
   "execution_count": 22,
   "metadata": {
    "colab": {
     "base_uri": "https://localhost:8080/",
     "height": 423
    },
    "id": "ZTrZmHLYyMQv",
    "outputId": "138be6ee-03fd-4c6f-a456-900750bdc963"
   },
   "outputs": [
    {
     "data": {
      "text/html": [
       "<div>\n",
       "<style scoped>\n",
       "    .dataframe tbody tr th:only-of-type {\n",
       "        vertical-align: middle;\n",
       "    }\n",
       "\n",
       "    .dataframe tbody tr th {\n",
       "        vertical-align: top;\n",
       "    }\n",
       "\n",
       "    .dataframe thead th {\n",
       "        text-align: right;\n",
       "    }\n",
       "</style>\n",
       "<table border=\"1\" class=\"dataframe\">\n",
       "  <thead>\n",
       "    <tr style=\"text-align: right;\">\n",
       "      <th>Ticker</th>\n",
       "      <th>GOOG</th>\n",
       "    </tr>\n",
       "  </thead>\n",
       "  <tbody>\n",
       "    <tr>\n",
       "      <th>0</th>\n",
       "      <td>105.300087</td>\n",
       "    </tr>\n",
       "    <tr>\n",
       "      <th>1</th>\n",
       "      <td>105.214088</td>\n",
       "    </tr>\n",
       "    <tr>\n",
       "      <th>2</th>\n",
       "      <td>107.656075</td>\n",
       "    </tr>\n",
       "    <tr>\n",
       "      <th>3</th>\n",
       "      <td>112.132477</td>\n",
       "    </tr>\n",
       "    <tr>\n",
       "      <th>4</th>\n",
       "      <td>113.365143</td>\n",
       "    </tr>\n",
       "    <tr>\n",
       "      <th>...</th>\n",
       "      <td>...</td>\n",
       "    </tr>\n",
       "    <tr>\n",
       "      <th>649</th>\n",
       "      <td>195.531952</td>\n",
       "    </tr>\n",
       "    <tr>\n",
       "      <th>650</th>\n",
       "      <td>197.108246</td>\n",
       "    </tr>\n",
       "    <tr>\n",
       "      <th>651</th>\n",
       "      <td>196.639343</td>\n",
       "    </tr>\n",
       "    <tr>\n",
       "      <th>652</th>\n",
       "      <td>193.586487</td>\n",
       "    </tr>\n",
       "    <tr>\n",
       "      <th>653</th>\n",
       "      <td>192.239655</td>\n",
       "    </tr>\n",
       "  </tbody>\n",
       "</table>\n",
       "<p>654 rows × 1 columns</p>\n",
       "</div>"
      ],
      "text/plain": [
       "Ticker        GOOG\n",
       "0       105.300087\n",
       "1       105.214088\n",
       "2       107.656075\n",
       "3       112.132477\n",
       "4       113.365143\n",
       "..             ...\n",
       "649     195.531952\n",
       "650     197.108246\n",
       "651     196.639343\n",
       "652     193.586487\n",
       "653     192.239655\n",
       "\n",
       "[654 rows x 1 columns]"
      ]
     },
     "execution_count": 22,
     "metadata": {},
     "output_type": "execute_result"
    }
   ],
   "source": [
    "data_test"
   ]
  },
  {
   "cell_type": "code",
   "execution_count": 31,
   "metadata": {
    "id": "2m2x3bVMyRl6"
   },
   "outputs": [],
   "source": [
    "data_test_scale = scaler.fit_transform(data_test)"
   ]
  },
  {
   "cell_type": "code",
   "execution_count": 32,
   "metadata": {
    "id": "ZsSYX9z2yiF4"
   },
   "outputs": [],
   "source": [
    "x = []\n",
    "y = []\n",
    "for i in range(100, data_test_scale.shape[0]):\n",
    "  x.append(data_test_scale[i-100:i])\n",
    "  y.append(data_test_scale[i,0])\n",
    "x, y = np.array(x), np.array(y)"
   ]
  },
  {
   "cell_type": "code",
   "execution_count": 33,
   "metadata": {
    "colab": {
     "base_uri": "https://localhost:8080/"
    },
    "id": "sEyiUVgVBTOj",
    "outputId": "8f9643e0-35a8-4c3e-cdcd-83ff29ba7abd"
   },
   "outputs": [
    {
     "name": "stdout",
     "output_type": "stream",
     "text": [
      "\u001b[1m15/15\u001b[0m \u001b[32m━━━━━━━━━━━━━━━━━━━━\u001b[0m\u001b[37m\u001b[0m \u001b[1m1s\u001b[0m 52ms/step\n"
     ]
    }
   ],
   "source": [
    "y_predict = model.predict(x)"
   ]
  },
  {
   "cell_type": "code",
   "execution_count": 34,
   "metadata": {
    "colab": {
     "base_uri": "https://localhost:8080/"
    },
    "id": "x7REOPCHBd3E",
    "outputId": "5e39ec52-8227-4c4b-cf2d-43438bf44af4"
   },
   "outputs": [
    {
     "data": {
      "text/plain": [
       "array([[0.15137824],\n",
       "       [0.14931872],\n",
       "       [0.1475693 ],\n",
       "       [0.14617488],\n",
       "       [0.14527334],\n",
       "       [0.14501214],\n",
       "       [0.14547482],\n",
       "       [0.14675838],\n",
       "       [0.14887053],\n",
       "       [0.15177637],\n",
       "       [0.15535423],\n",
       "       [0.15937561],\n",
       "       [0.16370794],\n",
       "       [0.16821525],\n",
       "       [0.17276293],\n",
       "       [0.17725617],\n",
       "       [0.18164837],\n",
       "       [0.18590638],\n",
       "       [0.19001895],\n",
       "       [0.19403167],\n",
       "       [0.19796927],\n",
       "       [0.20183074],\n",
       "       [0.20558822],\n",
       "       [0.20924962],\n",
       "       [0.21283445],\n",
       "       [0.21631011],\n",
       "       [0.2196274 ],\n",
       "       [0.22271392],\n",
       "       [0.22552276],\n",
       "       [0.22802465],\n",
       "       [0.23022412],\n",
       "       [0.23208605],\n",
       "       [0.23357959],\n",
       "       [0.2347858 ],\n",
       "       [0.2358043 ],\n",
       "       [0.23671721],\n",
       "       [0.2375494 ],\n",
       "       [0.23830405],\n",
       "       [0.23895893],\n",
       "       [0.23950699],\n",
       "       [0.23999007],\n",
       "       [0.24045369],\n",
       "       [0.24101226],\n",
       "       [0.2418569 ],\n",
       "       [0.24314696],\n",
       "       [0.24496233],\n",
       "       [0.24734633],\n",
       "       [0.25025317],\n",
       "       [0.25355557],\n",
       "       [0.25697824],\n",
       "       [0.26073006],\n",
       "       [0.26487872],\n",
       "       [0.26936552],\n",
       "       [0.27456772],\n",
       "       [0.28066438],\n",
       "       [0.28751135],\n",
       "       [0.29562935],\n",
       "       [0.30453488],\n",
       "       [0.31362635],\n",
       "       [0.322551  ],\n",
       "       [0.3311234 ],\n",
       "       [0.33879292],\n",
       "       [0.34504455],\n",
       "       [0.34964666],\n",
       "       [0.35271817],\n",
       "       [0.3545422 ],\n",
       "       [0.3554446 ],\n",
       "       [0.35582602],\n",
       "       [0.3559023 ],\n",
       "       [0.355785  ],\n",
       "       [0.35535824],\n",
       "       [0.35469687],\n",
       "       [0.3538775 ],\n",
       "       [0.35260195],\n",
       "       [0.35062766],\n",
       "       [0.34803513],\n",
       "       [0.34496996],\n",
       "       [0.3417057 ],\n",
       "       [0.33845583],\n",
       "       [0.33557725],\n",
       "       [0.33321208],\n",
       "       [0.33130854],\n",
       "       [0.3294732 ],\n",
       "       [0.32741392],\n",
       "       [0.32515365],\n",
       "       [0.3232331 ],\n",
       "       [0.32223344],\n",
       "       [0.32252535],\n",
       "       [0.3241428 ],\n",
       "       [0.32681507],\n",
       "       [0.32986373],\n",
       "       [0.33267722],\n",
       "       [0.3349798 ],\n",
       "       [0.33678243],\n",
       "       [0.33868048],\n",
       "       [0.34125587],\n",
       "       [0.34518498],\n",
       "       [0.35094562],\n",
       "       [0.35837752],\n",
       "       [0.3666554 ],\n",
       "       [0.3747505 ],\n",
       "       [0.38167086],\n",
       "       [0.3872437 ],\n",
       "       [0.39159596],\n",
       "       [0.39472753],\n",
       "       [0.39667648],\n",
       "       [0.3975434 ],\n",
       "       [0.39770362],\n",
       "       [0.39733613],\n",
       "       [0.39642417],\n",
       "       [0.3951254 ],\n",
       "       [0.3933634 ],\n",
       "       [0.39120936],\n",
       "       [0.38889495],\n",
       "       [0.38705942],\n",
       "       [0.3858928 ],\n",
       "       [0.38539982],\n",
       "       [0.38561255],\n",
       "       [0.38703907],\n",
       "       [0.39028114],\n",
       "       [0.39564657],\n",
       "       [0.4028091 ],\n",
       "       [0.41105664],\n",
       "       [0.41945803],\n",
       "       [0.42725176],\n",
       "       [0.43409565],\n",
       "       [0.43994492],\n",
       "       [0.4445846 ],\n",
       "       [0.4481119 ],\n",
       "       [0.4509421 ],\n",
       "       [0.453346  ],\n",
       "       [0.4555537 ],\n",
       "       [0.4576688 ],\n",
       "       [0.45908752],\n",
       "       [0.45872062],\n",
       "       [0.45590332],\n",
       "       [0.45068878],\n",
       "       [0.4432775 ],\n",
       "       [0.43442836],\n",
       "       [0.42525434],\n",
       "       [0.4166207 ],\n",
       "       [0.40953833],\n",
       "       [0.40444362],\n",
       "       [0.4018446 ],\n",
       "       [0.40190172],\n",
       "       [0.40479589],\n",
       "       [0.4104162 ],\n",
       "       [0.4180656 ],\n",
       "       [0.42707682],\n",
       "       [0.43672088],\n",
       "       [0.44617736],\n",
       "       [0.45490777],\n",
       "       [0.4626956 ],\n",
       "       [0.46923834],\n",
       "       [0.47424638],\n",
       "       [0.47728968],\n",
       "       [0.4783942 ],\n",
       "       [0.47817641],\n",
       "       [0.47522402],\n",
       "       [0.46809745],\n",
       "       [0.4565572 ],\n",
       "       [0.44159582],\n",
       "       [0.42492425],\n",
       "       [0.40847147],\n",
       "       [0.39365497],\n",
       "       [0.3814236 ],\n",
       "       [0.37234673],\n",
       "       [0.36668208],\n",
       "       [0.36454374],\n",
       "       [0.36555094],\n",
       "       [0.3693837 ],\n",
       "       [0.37541783],\n",
       "       [0.38314676],\n",
       "       [0.39206454],\n",
       "       [0.4018258 ],\n",
       "       [0.41190517],\n",
       "       [0.42187724],\n",
       "       [0.43139935],\n",
       "       [0.44029504],\n",
       "       [0.4482757 ],\n",
       "       [0.45499492],\n",
       "       [0.46032846],\n",
       "       [0.4639821 ],\n",
       "       [0.46548176],\n",
       "       [0.46445897],\n",
       "       [0.46055913],\n",
       "       [0.45416084],\n",
       "       [0.44590926],\n",
       "       [0.43762946],\n",
       "       [0.430721  ],\n",
       "       [0.42567912],\n",
       "       [0.42231482],\n",
       "       [0.4202625 ],\n",
       "       [0.41900373],\n",
       "       [0.41820613],\n",
       "       [0.41823715],\n",
       "       [0.41957858],\n",
       "       [0.4226696 ],\n",
       "       [0.42790323],\n",
       "       [0.43505788],\n",
       "       [0.44362193],\n",
       "       [0.45288005],\n",
       "       [0.46210992],\n",
       "       [0.47063664],\n",
       "       [0.4777441 ],\n",
       "       [0.48318434],\n",
       "       [0.48656195],\n",
       "       [0.48769057],\n",
       "       [0.4871744 ],\n",
       "       [0.48606646],\n",
       "       [0.48549172],\n",
       "       [0.48614326],\n",
       "       [0.48815185],\n",
       "       [0.4913302 ],\n",
       "       [0.49511823],\n",
       "       [0.49927938],\n",
       "       [0.5040554 ],\n",
       "       [0.50957537],\n",
       "       [0.5158842 ],\n",
       "       [0.52282554],\n",
       "       [0.5304496 ],\n",
       "       [0.5387696 ],\n",
       "       [0.5477531 ],\n",
       "       [0.55703264],\n",
       "       [0.5650797 ],\n",
       "       [0.5698081 ],\n",
       "       [0.570454  ],\n",
       "       [0.567646  ],\n",
       "       [0.5625635 ],\n",
       "       [0.5565928 ],\n",
       "       [0.5509112 ],\n",
       "       [0.5467466 ],\n",
       "       [0.54452556],\n",
       "       [0.54377437],\n",
       "       [0.54399407],\n",
       "       [0.5442054 ],\n",
       "       [0.54340005],\n",
       "       [0.54119384],\n",
       "       [0.5379343 ],\n",
       "       [0.53437686],\n",
       "       [0.53114295],\n",
       "       [0.52764404],\n",
       "       [0.5236118 ],\n",
       "       [0.5186132 ],\n",
       "       [0.51280344],\n",
       "       [0.50634325],\n",
       "       [0.49892092],\n",
       "       [0.49033827],\n",
       "       [0.4804306 ],\n",
       "       [0.46982563],\n",
       "       [0.45951146],\n",
       "       [0.45083305],\n",
       "       [0.44482055],\n",
       "       [0.44212377],\n",
       "       [0.44324803],\n",
       "       [0.44752628],\n",
       "       [0.45469135],\n",
       "       [0.46401656],\n",
       "       [0.47482887],\n",
       "       [0.48658255],\n",
       "       [0.498951  ],\n",
       "       [0.5115403 ],\n",
       "       [0.52398896],\n",
       "       [0.53595924],\n",
       "       [0.54716825],\n",
       "       [0.55776495],\n",
       "       [0.56785804],\n",
       "       [0.57749784],\n",
       "       [0.58621526],\n",
       "       [0.5936313 ],\n",
       "       [0.59982955],\n",
       "       [0.6053276 ],\n",
       "       [0.6104531 ],\n",
       "       [0.6157241 ],\n",
       "       [0.62116706],\n",
       "       [0.6263781 ],\n",
       "       [0.6307313 ],\n",
       "       [0.63401496],\n",
       "       [0.63631725],\n",
       "       [0.6375915 ],\n",
       "       [0.63819635],\n",
       "       [0.63875395],\n",
       "       [0.63985884],\n",
       "       [0.6413537 ],\n",
       "       [0.6444891 ],\n",
       "       [0.6494571 ],\n",
       "       [0.6559056 ],\n",
       "       [0.6633023 ],\n",
       "       [0.67138124],\n",
       "       [0.6799041 ],\n",
       "       [0.68866515],\n",
       "       [0.6977564 ],\n",
       "       [0.706931  ],\n",
       "       [0.7158708 ],\n",
       "       [0.72410464],\n",
       "       [0.7313268 ],\n",
       "       [0.73749536],\n",
       "       [0.74288   ],\n",
       "       [0.7478977 ],\n",
       "       [0.75302136],\n",
       "       [0.75860846],\n",
       "       [0.76484597],\n",
       "       [0.7714834 ],\n",
       "       [0.7777803 ],\n",
       "       [0.7832569 ],\n",
       "       [0.787858  ],\n",
       "       [0.79159236],\n",
       "       [0.79412234],\n",
       "       [0.7952961 ],\n",
       "       [0.7951186 ],\n",
       "       [0.7939831 ],\n",
       "       [0.79260015],\n",
       "       [0.791561  ],\n",
       "       [0.7909341 ],\n",
       "       [0.79075146],\n",
       "       [0.7911328 ],\n",
       "       [0.7922534 ],\n",
       "       [0.7938442 ],\n",
       "       [0.79573965],\n",
       "       [0.7978351 ],\n",
       "       [0.79977906],\n",
       "       [0.80141926],\n",
       "       [0.80297506],\n",
       "       [0.8047118 ],\n",
       "       [0.80719316],\n",
       "       [0.81072867],\n",
       "       [0.81542957],\n",
       "       [0.8207885 ],\n",
       "       [0.82633114],\n",
       "       [0.8318833 ],\n",
       "       [0.83738875],\n",
       "       [0.8431387 ],\n",
       "       [0.84916115],\n",
       "       [0.85530746],\n",
       "       [0.86154425],\n",
       "       [0.8672129 ],\n",
       "       [0.8717239 ],\n",
       "       [0.87494135],\n",
       "       [0.87668383],\n",
       "       [0.87669444],\n",
       "       [0.8745849 ],\n",
       "       [0.8701892 ],\n",
       "       [0.8645886 ],\n",
       "       [0.8588054 ],\n",
       "       [0.8523432 ],\n",
       "       [0.8442575 ],\n",
       "       [0.83417726],\n",
       "       [0.82267237],\n",
       "       [0.8106804 ],\n",
       "       [0.79929435],\n",
       "       [0.78923416],\n",
       "       [0.78032506],\n",
       "       [0.77125084],\n",
       "       [0.761222  ],\n",
       "       [0.75012255],\n",
       "       [0.7387396 ],\n",
       "       [0.72811794],\n",
       "       [0.7188387 ],\n",
       "       [0.7114662 ],\n",
       "       [0.7056868 ],\n",
       "       [0.70124125],\n",
       "       [0.6980903 ],\n",
       "       [0.696683  ],\n",
       "       [0.69720864],\n",
       "       [0.69925916],\n",
       "       [0.7021847 ],\n",
       "       [0.70555705],\n",
       "       [0.70911133],\n",
       "       [0.7124911 ],\n",
       "       [0.71508765],\n",
       "       [0.71634686],\n",
       "       [0.7163789 ],\n",
       "       [0.71456087],\n",
       "       [0.71062803],\n",
       "       [0.7048752 ],\n",
       "       [0.69676304],\n",
       "       [0.68584776],\n",
       "       [0.6725671 ],\n",
       "       [0.65818894],\n",
       "       [0.6445443 ],\n",
       "       [0.6335044 ],\n",
       "       [0.62625635],\n",
       "       [0.62276804],\n",
       "       [0.62272114],\n",
       "       [0.6255114 ],\n",
       "       [0.63072693],\n",
       "       [0.63770586],\n",
       "       [0.645756  ],\n",
       "       [0.6541537 ],\n",
       "       [0.66235626],\n",
       "       [0.6701275 ],\n",
       "       [0.67753226],\n",
       "       [0.68476033],\n",
       "       [0.69176924],\n",
       "       [0.6983969 ],\n",
       "       [0.7046023 ],\n",
       "       [0.7099055 ],\n",
       "       [0.7139925 ],\n",
       "       [0.71630585],\n",
       "       [0.7167686 ],\n",
       "       [0.7158069 ],\n",
       "       [0.71421254],\n",
       "       [0.71270883],\n",
       "       [0.71172416],\n",
       "       [0.7110864 ],\n",
       "       [0.7106444 ],\n",
       "       [0.7103908 ],\n",
       "       [0.7104782 ],\n",
       "       [0.7106315 ],\n",
       "       [0.7106247 ],\n",
       "       [0.7107078 ],\n",
       "       [0.7112937 ],\n",
       "       [0.71288216],\n",
       "       [0.71599674],\n",
       "       [0.7206631 ],\n",
       "       [0.7265285 ],\n",
       "       [0.7328447 ],\n",
       "       [0.73899287],\n",
       "       [0.7452506 ],\n",
       "       [0.7521908 ],\n",
       "       [0.7599473 ],\n",
       "       [0.76854086],\n",
       "       [0.7778585 ],\n",
       "       [0.78728735],\n",
       "       [0.79583466],\n",
       "       [0.8024111 ],\n",
       "       [0.8067701 ],\n",
       "       [0.8094138 ],\n",
       "       [0.8107108 ],\n",
       "       [0.8099445 ],\n",
       "       [0.80632734],\n",
       "       [0.80025816],\n",
       "       [0.7926717 ],\n",
       "       [0.7845713 ],\n",
       "       [0.7767389 ],\n",
       "       [0.77008235],\n",
       "       [0.7651342 ],\n",
       "       [0.76239645],\n",
       "       [0.76154727],\n",
       "       [0.76249635],\n",
       "       [0.76506805],\n",
       "       [0.7696564 ],\n",
       "       [0.7770386 ],\n",
       "       [0.7872422 ],\n",
       "       [0.79961133],\n",
       "       [0.8136778 ],\n",
       "       [0.82875896],\n",
       "       [0.8434273 ],\n",
       "       [0.8564732 ],\n",
       "       [0.8675674 ],\n",
       "       [0.87700677],\n",
       "       [0.8852663 ],\n",
       "       [0.8926611 ],\n",
       "       [0.89905334]], dtype=float32)"
      ]
     },
     "execution_count": 34,
     "metadata": {},
     "output_type": "execute_result"
    }
   ],
   "source": [
    "y_predict"
   ]
  },
  {
   "cell_type": "code",
   "execution_count": 35,
   "metadata": {
    "id": "aPcLXN6cBwB5"
   },
   "outputs": [
    {
     "data": {
      "text/plain": [
       "array([0.00871838])"
      ]
     },
     "execution_count": 35,
     "metadata": {},
     "output_type": "execute_result"
    }
   ],
   "source": [
    "scaler.scale_"
   ]
  },
  {
   "cell_type": "code",
   "execution_count": 36,
   "metadata": {},
   "outputs": [
    {
     "data": {
      "text/plain": [
       "array([114.7002182])"
      ]
     },
     "execution_count": 36,
     "metadata": {},
     "output_type": "execute_result"
    }
   ],
   "source": [
    "1/scaler.scale_"
   ]
  },
  {
   "cell_type": "code",
   "execution_count": 37,
   "metadata": {},
   "outputs": [],
   "source": [
    "scale = 1/scaler.scale_"
   ]
  },
  {
   "cell_type": "code",
   "execution_count": 38,
   "metadata": {
    "id": "ZSY2EkAdB9st"
   },
   "outputs": [],
   "source": [
    "y_predict = y_predict*scale"
   ]
  },
  {
   "cell_type": "code",
   "execution_count": 39,
   "metadata": {
    "id": "X7UOGnB9CQFy"
   },
   "outputs": [],
   "source": [
    "y = y*scale"
   ]
  },
  {
   "cell_type": "code",
   "execution_count": 40,
   "metadata": {
    "colab": {
     "base_uri": "https://localhost:8080/",
     "height": 534
    },
    "id": "PAeBkNlECWdt",
    "outputId": "a54acb9f-5876-40aa-afbe-91dbcc9cbbc1"
   },
   "outputs": [
    {
     "data": {
      "image/png": "[encoded data removed]",
      "text/plain": [
       "<Figure size 1000x800 with 1 Axes>"
      ]
     },
     "metadata": {},
     "output_type": "display_data"
    }
   ],
   "source": [
    "plt.figure(figsize=(10,8))\n",
    "plt.plot(y_predict, 'r', label='Predicted Price')\n",
    "plt.plot(y, 'g', label='Original Price')\n",
    "plt.xlabel('Time')\n",
    "plt.ylabel('Price')\n",
    "plt.legend()\n",
    "plt.show()"
   ]
  },
  {
   "cell_type": "code",
   "execution_count": 41,
   "metadata": {
    "id": "9a2zKYgYCwTF"
   },
   "outputs": [],
   "source": [
    "model.save('Stock Prediction Model.keras')"
   ]
  },
  {
   "cell_type": "code",
   "execution_count": null,
   "metadata": {
    "id": "RyIcYsfVDHRu"
   },
   "outputs": [],
   "source": []
  }
 ],
 "metadata": {
  "colab": {
   "provenance": []
  },
  "kernelspec": {
   "display_name": "Python 3 (ipykernel)",
   "language": "python",
   "name": "python3"
  },
  "language_info": {
   "codemirror_mode": {
    "name": "ipython",
    "version": 3
   },
   "file_extension": ".py",
   "mimetype": "text/x-python",
   "name": "python",
   "nbconvert_exporter": "python",
   "pygments_lexer": "ipython3",
   "version": "3.12.4"
  }
 },
 "nbformat": 4,
 "nbformat_minor": 4
}
